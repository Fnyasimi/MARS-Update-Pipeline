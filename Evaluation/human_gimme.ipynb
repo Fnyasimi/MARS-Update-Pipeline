{
 "cells": [
  {
   "cell_type": "code",
   "execution_count": 1,
   "metadata": {},
   "outputs": [],
   "source": [
    "import pandas as pd\n",
    "import glob\n",
    "import os\n",
    "import sys\n",
    "import re\n",
    "import new_utils\n",
    "genome = \"../../Data/Genomes/hg38/GRCh38_no_alt_analysis_set_GCA_000001405.15.fasta\""
   ]
  },
  {
   "cell_type": "code",
   "execution_count": 2,
   "metadata": {},
   "outputs": [
    {
     "name": "stderr",
     "output_type": "stream",
     "text": [
      "/home/festo/Documents/MARStool/MARS-Update-Pipeline/Evaluation/new_utils.py:62: SettingWithCopyWarning: \n",
      "A value is trying to be set on a copy of a slice from a DataFrame.\n",
      "Try using .loc[row_indexer,col_indexer] = value instead\n",
      "\n",
      "See the caveats in the documentation: https://pandas.pydata.org/pandas-docs/stable/user_guide/indexing.html#returning-a-view-versus-a-copy\n",
      "  tf_table['TF_id'] = tf_table.TF_id.astype('str')\n"
     ]
    }
   ],
   "source": [
    "# getover5 motifs\n",
    "taxa_id = 9606\n",
    "tf_table = \"../db-tables/Transcription_Factor-table.csv\"\n",
    "mot_table = \"../db-tables/motif-table.tsv\"\n",
    "over5mot = new_utils.getOver5mot(tf_table,mot_table,taxa_id)\n",
    "\n",
    "# getover 5 chipseq expts\n",
    "chipseq = \"../hg-chipseq.tsv\"\n",
    "chipdata = \"../chipdata_table.tsv\"\n",
    "over5chip = new_utils.getover5chip(tf_table,chipseq,chipdata,taxa_id)\n",
    "\n",
    "over5chip.rename(columns={'counts': 'chip_counts'},inplace = True)\n",
    "over5mot.rename(columns={'counts': 'mot_counts'},inplace = True)\n",
    "over5chip = over5chip[['TF_id','TF_name','chip_counts']]\n",
    "overlap = pd.merge(over5mot,over5chip,how = 'inner', left_on = ['TF_id', 'TF_name'], \n",
    "                   right_on = ['TF_id','TF_name'])\n",
    "\n",
    "# get a tf list to work on\n",
    "tf_list = overlap['TF_name'].values\n",
    "tf_list = list(tf_list)"
   ]
  },
  {
   "cell_type": "code",
   "execution_count": 3,
   "metadata": {},
   "outputs": [
    {
     "data": {
      "text/plain": [
       "['HNF-4A (NR2A1)',\n",
       " 'c-Ets-1',\n",
       " 'PU.1 (Spi-1)',\n",
       " 'RXRA (NR2B1)',\n",
       " 'GATA-1 (GF-1, EryF1, NF-E1)',\n",
       " 'CREB (CREB1)',\n",
       " 'E2F-1',\n",
       " 'CEBPB (NF-IL6-1)',\n",
       " 'SRF',\n",
       " 'YY1 [4]',\n",
       " 'Max',\n",
       " 'NF-κB p65 (RelA)',\n",
       " 'EGR1 (Krox-24, Zif268)',\n",
       " 'ERR1 (ERRA, ESRRA) (NR3B1)',\n",
       " 'GATA-3',\n",
       " 'REST (NRSF, XBR) [1+7+1]',\n",
       " 'Glucocorticoid receptor (GR) (NR3C1)',\n",
       " 'FOXA1 (HNF-3A)',\n",
       " 'Pax-5',\n",
       " 'c-Myc',\n",
       " 'Elf-1',\n",
       " 'USF-1',\n",
       " 'STAT1',\n",
       " 'GABPA (E4TF1-60, NRSF-2A)',\n",
       " 'c-Jun',\n",
       " 'RFX5',\n",
       " 'JunD',\n",
       " 'DEC1 (STRA-13, bHLHb2)',\n",
       " 'ZNF143 (SBF, STAF) [7]',\n",
       " 'Sp1',\n",
       " 'HTF-4 (TCF-12, HEB)',\n",
       " 'Fli-1',\n",
       " 'ERG',\n",
       " 'TR4 (NR2C2)',\n",
       " 'HSF1 (HSTF1)',\n",
       " 'Estrogen receptor A (ERA) (ESR1, NR3A1)',\n",
       " 'NF-E2L1 (NRF1)',\n",
       " 'TBP',\n",
       " 'Cux-1 (CDP, Cut-L1)',\n",
       " 'Runx1 (PEBP2AB, CBF-A2, AML-1)',\n",
       " 'NF-E2 p45',\n",
       " 'ATF-3',\n",
       " 'ZBTB33 (KAISO, ZNF348) [3]',\n",
       " 'SOX-2',\n",
       " 'SREBP-1 (SREBF1)',\n",
       " 'E2F-4',\n",
       " 'Elk-1',\n",
       " 'COUP-TFI (NR2F1)',\n",
       " 'GATA-2']"
      ]
     },
     "execution_count": 3,
     "metadata": {},
     "output_type": "execute_result"
    }
   ],
   "source": [
    "tf_list[1:50]"
   ]
  },
  {
   "cell_type": "code",
   "execution_count": 4,
   "metadata": {},
   "outputs": [
    {
     "name": "stdout",
     "output_type": "stream",
     "text": [
      "HNF-4A\n",
      "No results\n",
      "No results\n",
      "c-Ets-1\n",
      "No results\n",
      "No results\n",
      "PU.1\n",
      "No results\n",
      "No results\n",
      "RXRA\n",
      "No results\n",
      "No results\n",
      "GATA-1\n",
      "No results\n",
      "No results\n",
      "CREB\n",
      "No results\n",
      "No results\n",
      "E2F-1\n",
      "No results\n",
      "No results\n",
      "CEBPB\n",
      "No results\n",
      "No results\n",
      "SRF\n",
      "No results\n",
      "No results\n",
      "YY1\n",
      "No results\n",
      "No results\n",
      "Max\n",
      "No results\n",
      "No results\n",
      "NF-κB_p65\n",
      "No results\n",
      "No results\n",
      "EGR1\n",
      "No results\n",
      "No results\n",
      "ERR1\n",
      "No results\n",
      "No results\n",
      "GATA-3\n",
      "No results\n",
      "No results\n",
      "REST\n",
      "No results\n",
      "No results\n",
      "Glucocorticoid_receptor\n",
      "No results\n",
      "No results\n",
      "FOXA1\n",
      "No results\n",
      "No results\n",
      "Pax-5\n",
      "No results\n",
      "No results\n",
      "c-Myc\n",
      "No results\n",
      "No results\n",
      "Elf-1\n",
      "No results\n",
      "No results\n",
      "USF-1\n",
      "No results\n",
      "No results\n",
      "STAT1\n",
      "No results\n",
      "No results\n",
      "GABPA\n",
      "No results\n",
      "No results\n",
      "c-Jun\n",
      "No results\n",
      "No results\n",
      "RFX5\n",
      "No results\n",
      "No results\n",
      "JunD\n",
      "No results\n",
      "No results\n",
      "DEC1\n",
      "No results\n",
      "No results\n",
      "ZNF143\n",
      "No results\n",
      "No results\n",
      "Sp1\n",
      "No results\n",
      "No results\n",
      "HTF-4\n",
      "No results\n",
      "No results\n",
      "Fli-1\n",
      "No results\n",
      "No results\n",
      "ERG\n",
      "No results\n",
      "No results\n",
      "TR4\n",
      "No results\n",
      "No results\n",
      "HSF1\n",
      "No results\n",
      "No results\n",
      "Estrogen_receptor_A\n",
      "No results\n",
      "No results\n",
      "NF-E2L1\n",
      "No results\n",
      "No results\n",
      "TBP\n",
      "No results\n",
      "No results\n",
      "Cux-1\n",
      "No results\n",
      "No results\n",
      "Runx1\n",
      "No results\n",
      "No results\n",
      "NF-E2_p45\n",
      "No results\n",
      "No results\n",
      "ATF-3\n",
      "No results\n",
      "No results\n",
      "ZBTB33\n",
      "No results\n",
      "No results\n",
      "SOX-2\n",
      "No results\n",
      "No results\n",
      "SREBP-1\n",
      "No results\n",
      "No results\n",
      "E2F-4\n",
      "No results\n",
      "No results\n",
      "Elk-1\n",
      "No results\n",
      "No results\n",
      "COUP-TFI\n",
      "No results\n",
      "No results\n",
      "GATA-2\n"
     ]
    },
    {
     "ename": "FileNotFoundError",
     "evalue": "[Errno 2] No such file or directory: 'Results/human/GATA-2//ENCFF997NUA.fa'",
     "output_type": "error",
     "traceback": [
      "\u001b[0;31m---------------------------------------------------------------------------\u001b[0m",
      "\u001b[0;31mFileNotFoundError\u001b[0m                         Traceback (most recent call last)",
      "\u001b[0;32m<ipython-input-4-3590094f026d>\u001b[0m in \u001b[0;36m<module>\u001b[0;34m\u001b[0m\n\u001b[1;32m     11\u001b[0m     \u001b[0mprefix\u001b[0m \u001b[0;34m=\u001b[0m \u001b[0;34m\"../\"\u001b[0m\u001b[0;34m\u001b[0m\u001b[0;34m\u001b[0m\u001b[0m\n\u001b[1;32m     12\u001b[0m     \u001b[0mchiplist\u001b[0m \u001b[0;34m=\u001b[0m \u001b[0mnew_utils\u001b[0m\u001b[0;34m.\u001b[0m\u001b[0mgetchiplist\u001b[0m\u001b[0;34m(\u001b[0m\u001b[0mtf_id\u001b[0m\u001b[0;34m,\u001b[0m\u001b[0mchipseq\u001b[0m\u001b[0;34m,\u001b[0m\u001b[0mchipdata\u001b[0m\u001b[0;34m,\u001b[0m\u001b[0mprefix\u001b[0m\u001b[0;34m)\u001b[0m\u001b[0;34m\u001b[0m\u001b[0;34m\u001b[0m\u001b[0m\n\u001b[0;32m---> 13\u001b[0;31m     \u001b[0mrun_gimme\u001b[0m\u001b[0;34m.\u001b[0m\u001b[0mrun_gimme\u001b[0m\u001b[0;34m(\u001b[0m\u001b[0mtf_out\u001b[0m\u001b[0;34m,\u001b[0m\u001b[0mmeme_in\u001b[0m\u001b[0;34m,\u001b[0m\u001b[0mchiplist\u001b[0m\u001b[0;34m,\u001b[0m\u001b[0mresults\u001b[0m\u001b[0;34m,\u001b[0m\u001b[0mgenome\u001b[0m\u001b[0;34m,\u001b[0m\u001b[0mfigure\u001b[0m\u001b[0;34m=\u001b[0m\u001b[0;32mTrue\u001b[0m\u001b[0;34m)\u001b[0m\u001b[0;34m\u001b[0m\u001b[0;34m\u001b[0m\u001b[0m\n\u001b[0m",
      "\u001b[0;32m~/Documents/MARStool/MARS-Update-Pipeline/Evaluation/run_gimme.py\u001b[0m in \u001b[0;36mrun_gimme\u001b[0;34m(tf, user_motif, chip_seq_list, results_path, genome, figure)\u001b[0m\n\u001b[1;32m     23\u001b[0m \u001b[0;34m\u001b[0m\u001b[0m\n\u001b[1;32m     24\u001b[0m         \u001b[0;31m# Extract the positive and negative sequence\u001b[0m\u001b[0;34m\u001b[0m\u001b[0;34m\u001b[0m\u001b[0;34m\u001b[0m\u001b[0m\n\u001b[0;32m---> 25\u001b[0;31m         \u001b[0mtab2fasta\u001b[0m\u001b[0;34m(\u001b[0m\u001b[0mchip_seq\u001b[0m\u001b[0;34m,\u001b[0m \u001b[0;34m'%s/%s.fa'\u001b[0m \u001b[0;34m%\u001b[0m \u001b[0;34m(\u001b[0m\u001b[0mresults_path\u001b[0m\u001b[0;34m,\u001b[0m \u001b[0mfile_name\u001b[0m\u001b[0;34m)\u001b[0m\u001b[0;34m,\u001b[0m \u001b[0;34m'%s/%s.bg'\u001b[0m \u001b[0;34m%\u001b[0m \u001b[0;34m(\u001b[0m\u001b[0mresults_path\u001b[0m\u001b[0;34m,\u001b[0m \u001b[0mfile_name\u001b[0m\u001b[0;34m)\u001b[0m\u001b[0;34m)\u001b[0m\u001b[0;34m\u001b[0m\u001b[0;34m\u001b[0m\u001b[0m\n\u001b[0m\u001b[1;32m     26\u001b[0m \u001b[0;34m\u001b[0m\u001b[0m\n\u001b[1;32m     27\u001b[0m         \u001b[0;31m# Convert the user motif into a pfm format\u001b[0m\u001b[0;34m\u001b[0m\u001b[0;34m\u001b[0m\u001b[0;34m\u001b[0m\u001b[0m\n",
      "\u001b[0;32m~/Documents/MARStool/MARS-Update-Pipeline/Evaluation/utils.py\u001b[0m in \u001b[0;36mtab2fasta\u001b[0;34m(posneg, fasta, background)\u001b[0m\n\u001b[1;32m    144\u001b[0m     \u001b[0mtab\u001b[0m\u001b[0;34m.\u001b[0m\u001b[0mclose\u001b[0m\u001b[0;34m(\u001b[0m\u001b[0;34m)\u001b[0m\u001b[0;34m\u001b[0m\u001b[0;34m\u001b[0m\u001b[0m\n\u001b[1;32m    145\u001b[0m     \u001b[0;32mwith\u001b[0m \u001b[0mopen\u001b[0m\u001b[0;34m(\u001b[0m\u001b[0mposneg\u001b[0m\u001b[0;34m,\u001b[0m \u001b[0;34m\"r\"\u001b[0m\u001b[0;34m)\u001b[0m \u001b[0;32mas\u001b[0m \u001b[0mtab\u001b[0m\u001b[0;34m:\u001b[0m\u001b[0;34m\u001b[0m\u001b[0;34m\u001b[0m\u001b[0m\n\u001b[0;32m--> 146\u001b[0;31m         \u001b[0;32mwith\u001b[0m \u001b[0mopen\u001b[0m\u001b[0;34m(\u001b[0m\u001b[0mfasta\u001b[0m\u001b[0;34m,\u001b[0m \u001b[0;34m'w'\u001b[0m\u001b[0;34m)\u001b[0m \u001b[0;32mas\u001b[0m \u001b[0mfa\u001b[0m\u001b[0;34m:\u001b[0m\u001b[0;34m\u001b[0m\u001b[0;34m\u001b[0m\u001b[0m\n\u001b[0m\u001b[1;32m    147\u001b[0m             \u001b[0;32mwith\u001b[0m \u001b[0mopen\u001b[0m\u001b[0;34m(\u001b[0m\u001b[0mbackground\u001b[0m\u001b[0;34m,\u001b[0m \u001b[0;34m'w'\u001b[0m\u001b[0;34m)\u001b[0m \u001b[0;32mas\u001b[0m \u001b[0mbg\u001b[0m\u001b[0;34m:\u001b[0m\u001b[0;34m\u001b[0m\u001b[0;34m\u001b[0m\u001b[0m\n\u001b[1;32m    148\u001b[0m                 \u001b[0;32mfor\u001b[0m \u001b[0mline\u001b[0m \u001b[0;32min\u001b[0m \u001b[0mtab\u001b[0m\u001b[0;34m:\u001b[0m\u001b[0;34m\u001b[0m\u001b[0;34m\u001b[0m\u001b[0m\n",
      "\u001b[0;31mFileNotFoundError\u001b[0m: [Errno 2] No such file or directory: 'Results/human/GATA-2//ENCFF997NUA.fa'"
     ]
    }
   ],
   "source": [
    "import run_gimme\n",
    "for tf in tf_list[1:50]:\n",
    "    tf_out = re.sub(\"[\\(\\[].*?[\\)\\]]\", \"\", tf).strip()\n",
    "    tf_out = tf_out.split(\"(\")[0].strip().replace(\" \",\"_\")\n",
    "    print(tf_out)\n",
    "    # get mot list\n",
    "    motlist, tf_id = new_utils.getmotlist(tf,tf_table,mot_table,taxa_id)\n",
    "    results = \"Results/human/\"+ tf_out + \"/\"\n",
    "    \n",
    "    meme_in = results + tf_out + \".meme\"\n",
    "    prefix = \"../\"\n",
    "    chiplist = new_utils.getchiplist(tf_id,chipseq,chipdata,prefix)\n",
    "    run_gimme.run_gimme(tf_out,meme_in,chiplist,results,genome,figure=True)"
   ]
  },
  {
   "cell_type": "code",
   "execution_count": null,
   "metadata": {},
   "outputs": [],
   "source": [
    "    "
   ]
  },
  {
   "cell_type": "code",
   "execution_count": 1,
   "metadata": {},
   "outputs": [],
   "source": [
    "import random"
   ]
  },
  {
   "cell_type": "code",
   "execution_count": 14,
   "metadata": {},
   "outputs": [
    {
     "data": {
      "text/plain": [
       "[2, 3, 1, 1, 5, 2, 3, 5, 2, 5]"
      ]
     },
     "execution_count": 14,
     "metadata": {},
     "output_type": "execute_result"
    }
   ],
   "source": [
    "random.choices(range(1,7),k=10)"
   ]
  },
  {
   "cell_type": "code",
   "execution_count": 12,
   "metadata": {},
   "outputs": [
    {
     "data": {
      "text/plain": [
       "\u001b[0;31mSignature:\u001b[0m \u001b[0mrandom\u001b[0m\u001b[0;34m.\u001b[0m\u001b[0mchoices\u001b[0m\u001b[0;34m(\u001b[0m\u001b[0mpopulation\u001b[0m\u001b[0;34m,\u001b[0m \u001b[0mweights\u001b[0m\u001b[0;34m=\u001b[0m\u001b[0;32mNone\u001b[0m\u001b[0;34m,\u001b[0m \u001b[0;34m*\u001b[0m\u001b[0;34m,\u001b[0m \u001b[0mcum_weights\u001b[0m\u001b[0;34m=\u001b[0m\u001b[0;32mNone\u001b[0m\u001b[0;34m,\u001b[0m \u001b[0mk\u001b[0m\u001b[0;34m=\u001b[0m\u001b[0;36m1\u001b[0m\u001b[0;34m)\u001b[0m\u001b[0;34m\u001b[0m\u001b[0;34m\u001b[0m\u001b[0m\n",
       "\u001b[0;31mDocstring:\u001b[0m\n",
       "Return a k sized list of population elements chosen with replacement.\n",
       "\n",
       "If the relative weights or cumulative weights are not specified,\n",
       "the selections are made with equal probability.\n",
       "\u001b[0;31mFile:\u001b[0m      ~/miniconda3/envs/gimme/lib/python3.7/random.py\n",
       "\u001b[0;31mType:\u001b[0m      method\n"
      ]
     },
     "metadata": {},
     "output_type": "display_data"
    }
   ],
   "source": [
    "?random.choices"
   ]
  },
  {
   "cell_type": "code",
   "execution_count": null,
   "metadata": {},
   "outputs": [],
   "source": []
  }
 ],
 "metadata": {
  "kernelspec": {
   "display_name": "Python 3",
   "language": "python",
   "name": "python3"
  },
  "language_info": {
   "codemirror_mode": {
    "name": "ipython",
    "version": 3
   },
   "file_extension": ".py",
   "mimetype": "text/x-python",
   "name": "python",
   "nbconvert_exporter": "python",
   "pygments_lexer": "ipython3",
   "version": "3.7.6"
  }
 },
 "nbformat": 4,
 "nbformat_minor": 4
}
